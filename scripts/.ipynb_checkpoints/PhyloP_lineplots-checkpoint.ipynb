{
 "cells": [
  {
   "cell_type": "code",
   "execution_count": 1,
   "id": "8a141e41-db5c-4f58-9d9c-885424747315",
   "metadata": {
    "execution": {
     "iopub.execute_input": "2024-05-02T21:01:04.640574Z",
     "iopub.status.busy": "2024-05-02T21:01:04.640054Z",
     "iopub.status.idle": "2024-05-02T21:01:06.375722Z",
     "shell.execute_reply": "2024-05-02T21:01:06.374673Z",
     "shell.execute_reply.started": "2024-05-02T21:01:04.640492Z"
    }
   },
   "outputs": [],
   "source": [
    "import numpy as np\n",
    "import pyBigWig\n",
    "from multiprocessing import Pool\n",
    "import matplotlib.pyplot as plt\n",
    "import logomaker\n",
    "import pandas as pd\n",
    "import requests\n",
    "import glob\n",
    "import pandas as pd\n",
    "import sys\n",
    "import subprocess"
   ]
  },
  {
   "cell_type": "code",
   "execution_count": 2,
   "id": "43008641-cc95-41f7-91b6-8041eb360fae",
   "metadata": {
    "execution": {
     "iopub.execute_input": "2024-05-02T21:01:13.641817Z",
     "iopub.status.busy": "2024-05-02T21:01:13.641633Z",
     "iopub.status.idle": "2024-05-02T21:01:13.649503Z",
     "shell.execute_reply": "2024-05-02T21:01:13.648923Z",
     "shell.execute_reply.started": "2024-05-02T21:01:13.641795Z"
    }
   },
   "outputs": [],
   "source": [
    "def chunks(lst, nChunks):\n",
    "    n = len(lst)\n",
    "    chunkSize = int(np.ceil(n/nChunks))\n",
    "    \n",
    "    for i in range(0, n, chunkSize):\n",
    "        yield lst[i:i + chunkSize]\n",
    "        \n",
    "def read_chunk(x):\n",
    "    bigwig, chunk, nan, l, nBins = x\n",
    "    l2 = l // 2\n",
    "    w = l // nBins\n",
    "    X = np.zeros((len(chunk), nBins))\n",
    "    with pyBigWig.open(bigwig) as bw:\n",
    "        for i, line in enumerate(chunk):\n",
    "            chrom, start, stop, name, score = line\n",
    "            start, stop = int(start), int(stop)\n",
    "            center = (start + stop) // 2\n",
    "            y = bw.values(chrom, center-1000, center+1000)\n",
    "            \n",
    "            if nBins == w:\n",
    "                X[i,:] = y\n",
    "                \n",
    "            else:\n",
    "                for j in range(nBins):\n",
    "                    X[i,j] = np.mean(y[j*w:(j+1)*w])\n",
    "\n",
    "\n",
    "    return(X)\n",
    "\n",
    "            \n",
    "def bwRead(x, l=100, nBins=100, nCPUs=24):\n",
    "    bed, bigwig, nan  = x\n",
    "    with open(bed) as f:\n",
    "        lines = [line.strip().split(\"\\t\")[:6] for line in f.readlines()]\n",
    "        \n",
    "    n = len(lines)\n",
    "    chunkSize = int(np.ceil(n/nCPUs))\n",
    "    \n",
    "    \n",
    "    with Pool(nCPUs) as p:\n",
    "        X = p.map(read_chunk, [[bigwig, lines[i:i+chunkSize], nan, l, nBins] for i in range(0, n, chunkSize)])\n",
    "    \n",
    "    X = np.vstack(X)\n",
    "    return(X)\n"
   ]
  },
  {
   "cell_type": "code",
   "execution_count": 3,
   "id": "0f37158d-275a-49f5-973f-e52babc6eac7",
   "metadata": {
    "execution": {
     "iopub.execute_input": "2024-05-02T21:01:13.650328Z",
     "iopub.status.busy": "2024-05-02T21:01:13.650145Z",
     "iopub.status.idle": "2024-05-02T21:01:13.717524Z",
     "shell.execute_reply": "2024-05-02T21:01:13.716862Z",
     "shell.execute_reply.started": "2024-05-02T21:01:13.650307Z"
    }
   },
   "outputs": [],
   "source": [
    "dir = '/data/zusers/sheddn/psychSCREEN/rebuttal_Yousefi/intersections-PhyloP/'\n",
    "bed_files = glob.glob(dir + '*.txt')\n",
    "\n",
    "full = ['/zata/zippy/andrewsg/data/zoonomia/PhyloP/241-mammalian-2020v2.bigWig',\n",
    "        '/zata/zippy/andrewsg/data/zoonomia/PhastCons/hg38_43primates_phastCons.bw']\n",
    "desc = ['PhyloP-241','PhastCons-43']\n",
    "        "
   ]
  },
  {
   "cell_type": "code",
   "execution_count": null,
   "id": "b07d053e-92bb-46de-932a-ec16a45e90f2",
   "metadata": {},
   "outputs": [],
   "source": [
    "for i in range(len(full)):\n",
    "    bigWig=full[i]\n",
    "    bw_name=desc[i]\n",
    "    XX = np.zeros((len(bed_files), 2001))\n",
    "    j = 0\n",
    "    for bed in bed_files:\n",
    "        bed_name=bed.split('/')[7].replace('.txt','')\n",
    "        print(bed_name)\n",
    "    \n",
    "        #X = bwRead([bed, bigWig, 0.0])\n",
    "        with open(bed, 'r') as f:\n",
    "            counter = 0\n",
    "            for line in f:\n",
    "                counter += 1\n",
    "\n",
    "        X = np.zeros((counter, 2021))\n",
    "\n",
    "        with open(bed, 'r') as f:\n",
    "            i = 0\n",
    "            for line in f:\n",
    "                chrom = line.strip().split()[0]\n",
    "                start = int(line.strip().split()[1])\n",
    "                stop = int(line.strip().split()[2])\n",
    "                center = (start + stop) // 2\n",
    "\n",
    "                with pyBigWig.open(bigWig) as bw:\n",
    "                    try: \n",
    "                        y = [ x if not np.isnan(x) else 0 for x in bw.values(chrom, center-1010, center+1011) ]\n",
    "                    except:\n",
    "                        y = np.empty((1,2021))[0]\n",
    "\n",
    "                X[i,:] = y\n",
    "\n",
    "                i += 1\n",
    "                \n",
    "        X = np.mean(X[~np.isnan(X).any(axis=1)], axis=0)\n",
    "        Xwindow = []\n",
    "        for bp in (range(10, 2011)):\n",
    "            Xwindow.append(sum(X[(bp-10):(bp+11)]) / 21)\n",
    "        \n",
    "        XX[j,:] = Xwindow\n",
    "        j += 1\n",
    "        \n",
    "    fname = '/data/zusers/sheddn/psychSCREEN/rebuttal_Yousefi/conservation-signal/' + bw_name + '.csv'\n",
    "    df = pd.DataFrame(XX, columns=range(-1000,1001))\n",
    "    df.index = [bed_file.replace('/data/zusers/sheddn/psychSCREEN/rebuttal_Yousefi/intersections/','').replace('.txt','') for bed_file in bed_files]\n",
    "    df.to_csv(fname)\n",
    "    "
   ]
  },
  {
   "cell_type": "code",
   "execution_count": 10,
   "id": "fac395f1-fd84-4154-911c-a5cc148c19df",
   "metadata": {},
   "outputs": [
    {
     "name": "stdout",
     "output_type": "stream",
     "text": [
      "nDAEs_non-cCREs\n"
     ]
    }
   ],
   "source": [
    "bigWig=full[0]\n",
    "bed=bed_files[0]\n",
    "bed_name=bed.split('/')[7].replace('.txt','')\n",
    "\n",
    "with open(bed, 'r') as f:\n",
    "    counter = 0\n",
    "    for line in f:\n",
    "        counter += 1\n",
    "\n",
    "X = np.zeros((counter, 2001))\n",
    "\n",
    "with open(bed, 'r') as f:\n",
    "    i = 0\n",
    "    for line in f:\n",
    "        chrom = line.strip().split()[0]\n",
    "        start = int(line.strip().split()[1])\n",
    "        stop = int(line.strip().split()[2])\n",
    "        center = (start + stop) // 2\n",
    "\n",
    "        with pyBigWig.open(bigWig) as bw:\n",
    "            try: \n",
    "                y = [ x if not np.isnan(x) else 0 for x in bw.values(chrom, center-1000, center+1001) ]\n",
    "            except:\n",
    "                y = np.empty((1,2001))[0]\n",
    "\n",
    "        X[i,:] = y\n",
    "\n",
    "        i += 1\n",
    "print(bed_name)\n",
    "X = X[~np.isnan(X).any(axis=1)]"
   ]
  },
  {
   "cell_type": "code",
   "execution_count": 17,
   "id": "e0b25841-ed63-42fe-ab78-af4196579380",
   "metadata": {},
   "outputs": [
    {
     "name": "stdout",
     "output_type": "stream",
     "text": [
      "[ 5059 22623  9829 ...  7810   414 17405]\n",
      "[1522  319  169 ... 1961  855  330]\n"
     ]
    }
   ],
   "source": [
    "#np.savetxt('DAEs_non-cCREs.txt',X)\n",
    "axis0_min = np.argmin(X, axis=0))\n",
    "print(np.argmin(X, axis=1))"
   ]
  },
  {
   "cell_type": "code",
   "execution_count": 4,
   "id": "ba5082bc-8b05-47cc-a7d9-9cb0b62fcff5",
   "metadata": {
    "execution": {
     "iopub.execute_input": "2024-05-02T21:01:13.719160Z",
     "iopub.status.busy": "2024-05-02T21:01:13.718971Z",
     "iopub.status.idle": "2024-05-02T21:01:13.742836Z",
     "shell.execute_reply": "2024-05-02T21:01:13.742072Z",
     "shell.execute_reply.started": "2024-05-02T21:01:13.719138Z"
    }
   },
   "outputs": [],
   "source": [
    "dir = '/data/zusers/sheddn/psychSCREEN/rebuttal_Yousefi/cCRE_intersections/'\n",
    "bed_files = glob.glob(dir + '*.txt')\n",
    "\n",
    "full = ['/zata/zippy/andrewsg/data/zoonomia/PhyloP/241-mammalian-2020v2.bigWig',\n",
    "        '/zata/zippy/andrewsg/data/zoonomia/PhastCons/hg38_43primates_phastCons.bw']\n",
    "desc = ['PhyloP-241','PhastCons-43']"
   ]
  },
  {
   "cell_type": "code",
   "execution_count": 7,
   "id": "1404ac32-d8b5-4894-80e7-dc41ceb1ef6d",
   "metadata": {
    "execution": {
     "iopub.execute_input": "2024-05-02T21:11:38.190447Z",
     "iopub.status.busy": "2024-05-02T21:11:38.189805Z",
     "iopub.status.idle": "2024-05-02T21:26:35.729228Z",
     "shell.execute_reply": "2024-05-02T21:26:35.728218Z",
     "shell.execute_reply.started": "2024-05-02T21:11:38.190385Z"
    }
   },
   "outputs": [
    {
     "name": "stdout",
     "output_type": "stream",
     "text": [
      "nDAEs_fetal-bCREs\n",
      "DAEs_adult-bCREs\n",
      "nDAEs_adult-bCREs\n",
      "DAEs_non-bCRE-cCREs\n",
      "DAEs_shared-bCREs\n",
      "DAEs_fetal-bCREs\n",
      "nDAEs_shared-bCREs\n",
      "nDAEs_non-bCRE-cCREs\n",
      "nDAEs_fetal-bCREs\n",
      "DAEs_adult-bCREs\n",
      "nDAEs_adult-bCREs\n",
      "DAEs_non-bCRE-cCREs\n",
      "DAEs_shared-bCREs\n"
     ]
    }
   ],
   "source": [
    "for i in range(len(full)):\n",
    "    bigWig=full[i]\n",
    "    bw_name=desc[i]\n",
    "    XX = np.zeros((len(bed_files), 2001))\n",
    "    j = 0\n",
    "    for bed in bed_files:\n",
    "        bed_name=bed.split('/')[7].replace('.txt','')\n",
    "        print(bed_name)\n",
    "    \n",
    "        #X = bwRead([bed, bigWig, 0.0])\n",
    "        with open(bed, 'r') as f:\n",
    "            counter = 0\n",
    "            for line in f:\n",
    "                counter += 1\n",
    "\n",
    "        X = np.zeros((counter, 2011))\n",
    "\n",
    "        with open(bed, 'r') as f:\n",
    "            i = 0\n",
    "            for line in f:\n",
    "                chrom = line.strip().split()[0]\n",
    "                start = int(line.strip().split()[1])\n",
    "                stop = int(line.strip().split()[2])\n",
    "                center = (start + stop) // 2\n",
    "\n",
    "                with pyBigWig.open(bigWig) as bw:\n",
    "                    try: \n",
    "                        y = [ x if not np.isnan(x) else 0 for x in bw.values(chrom, center-1005, center+1006) ]\n",
    "                    except:\n",
    "                        y = np.empty((1,2011))[0]\n",
    "\n",
    "                X[i,:] = y\n",
    "\n",
    "                i += 1\n",
    "                \n",
    "        X = np.mean(X[~np.isnan(X).any(axis=1)], axis=0)\n",
    "        Xwindow = []\n",
    "        for bp in (range(10, 2011)):\n",
    "            Xwindow.append(sum(X[(bp-5):(bp+6)]) / 11)\n",
    "        \n",
    "        XX[j,:] = Xwindow\n",
    "        j += 1\n",
    "        \n",
    "    fname = '/data/zusers/sheddn/psychSCREEN/rebuttal_Yousefi/conservation-signal_test/' + bw_name + '.csv'\n",
    "    df = pd.DataFrame(XX, columns=range(-1000,1001))\n",
    "    df.index = [bed_file.replace('/data/zusers/sheddn/psychSCREEN/rebuttal_Yousefi/cCRE_intersections/','').replace('.txt','') for bed_file in bed_files]\n",
    "    df.to_csv(fname)\n",
    "    "
   ]
  },
  {
   "cell_type": "code",
   "execution_count": 8,
   "id": "0b15f5b8-aa55-4585-a388-620fedfcf8e9",
   "metadata": {
    "execution": {
     "iopub.execute_input": "2024-05-02T22:42:51.412872Z",
     "iopub.status.busy": "2024-05-02T22:42:51.412181Z",
     "iopub.status.idle": "2024-05-02T22:42:51.421096Z",
     "shell.execute_reply": "2024-05-02T22:42:51.419608Z",
     "shell.execute_reply.started": "2024-05-02T22:42:51.412806Z"
    }
   },
   "outputs": [],
   "source": [
    "dir = '/data/zusers/sheddn/psychSCREEN/rebuttal_Yousefi/intersections_nopriority/'\n",
    "bed_files = glob.glob(dir + '*.txt')\n",
    "\n",
    "full = ['/zata/zippy/andrewsg/data/zoonomia/PhyloP/241-mammalian-2020v2.bigWig',\n",
    "        '/zata/zippy/andrewsg/data/zoonomia/PhastCons/hg38_43primates_phastCons.bw']\n",
    "desc = ['PhyloP-241','PhastCons-43']"
   ]
  },
  {
   "cell_type": "code",
   "execution_count": null,
   "id": "8ce94e99-354c-4be6-a1fd-70964632f2d1",
   "metadata": {
    "execution": {
     "iopub.execute_input": "2024-05-02T22:42:51.761679Z",
     "iopub.status.busy": "2024-05-02T22:42:51.761132Z"
    }
   },
   "outputs": [
    {
     "name": "stdout",
     "output_type": "stream",
     "text": [
      "nDAEs_non-cCREs\n",
      "nDAEs_fetal-bCREs\n",
      "DAEs_adult-bCREs\n",
      "nDAEs_adult-bCREs\n",
      "DAEs_non-bCRE-cCREs\n",
      "DAEs_shared-bCREs\n",
      "DAEs_non-cCREs\n",
      "DAEs_fetal-bCREs\n",
      "nDAEs_shared-bCREs\n",
      "nDAEs_non-bCRE-cCREs\n",
      "nDAEs_non-cCREs\n",
      "nDAEs_fetal-bCREs\n",
      "DAEs_adult-bCREs\n",
      "nDAEs_adult-bCREs\n",
      "DAEs_non-bCRE-cCREs\n",
      "DAEs_shared-bCREs\n",
      "DAEs_non-cCREs\n",
      "DAEs_fetal-bCREs\n",
      "nDAEs_shared-bCREs\n",
      "nDAEs_non-bCRE-cCREs\n"
     ]
    }
   ],
   "source": [
    "for i in range(len(full)):\n",
    "    bigWig=full[i]\n",
    "    bw_name=desc[i]\n",
    "    XX = np.zeros((len(bed_files), 2001))\n",
    "    j = 0\n",
    "    for bed in bed_files:\n",
    "        bed_name=bed.split('/')[7].replace('.txt','')\n",
    "        print(bed_name)\n",
    "    \n",
    "        #X = bwRead([bed, bigWig, 0.0])\n",
    "        with open(bed, 'r') as f:\n",
    "            counter = 0\n",
    "            for line in f:\n",
    "                counter += 1\n",
    "\n",
    "        X = np.zeros((counter, 2011))\n",
    "\n",
    "        with open(bed, 'r') as f:\n",
    "            i = 0\n",
    "            for line in f:\n",
    "                chrom = line.strip().split()[0]\n",
    "                start = int(line.strip().split()[1])\n",
    "                stop = int(line.strip().split()[2])\n",
    "                center = (start + stop) // 2\n",
    "\n",
    "                with pyBigWig.open(bigWig) as bw:\n",
    "                    try: \n",
    "                        y = [ x if not np.isnan(x) else 0 for x in bw.values(chrom, center-1005, center+1006) ]\n",
    "                    except:\n",
    "                        y = np.empty((1,2011))[0]\n",
    "\n",
    "                X[i,:] = y\n",
    "\n",
    "                i += 1\n",
    "                \n",
    "        X = np.mean(X[~np.isnan(X).any(axis=1)], axis=0)\n",
    "        Xwindow = []\n",
    "        for bp in (range(10, 2011)):\n",
    "            Xwindow.append(sum(X[(bp-5):(bp+6)]) / 11)\n",
    "        \n",
    "        XX[j,:] = Xwindow\n",
    "        j += 1\n",
    "        \n",
    "    fname = '/data/zusers/sheddn/psychSCREEN/rebuttal_Yousefi/conservation-signal_nopriority/' + bw_name + '.csv'\n",
    "    df = pd.DataFrame(XX, columns=range(-1000,1001))\n",
    "    df.index = [bed_file.replace('/data/zusers/sheddn/psychSCREEN/rebuttal_Yousefi/intersections_nopriority/','').replace('.txt','') for bed_file in bed_files]\n",
    "    df.to_csv(fname)\n",
    "    "
   ]
  },
  {
   "cell_type": "code",
   "execution_count": null,
   "id": "b3fe6710-b752-400c-86f8-883cd997d75a",
   "metadata": {},
   "outputs": [],
   "source": []
  }
 ],
 "metadata": {
  "kernelspec": {
   "display_name": "Python 3 (ipykernel)",
   "language": "python",
   "name": "python3"
  },
  "language_info": {
   "codemirror_mode": {
    "name": "ipython",
    "version": 3
   },
   "file_extension": ".py",
   "mimetype": "text/x-python",
   "name": "python",
   "nbconvert_exporter": "python",
   "pygments_lexer": "ipython3",
   "version": "3.10.12"
  }
 },
 "nbformat": 4,
 "nbformat_minor": 5
}
